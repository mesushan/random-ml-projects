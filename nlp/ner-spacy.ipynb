{
 "cells": [
  {
   "cell_type": "markdown",
   "id": "869b69a7-3465-4567-956a-a915204a6ff7",
   "metadata": {},
   "source": [
    "### Named Entity Recognition (NER) using Spacy"
   ]
  },
  {
   "cell_type": "markdown",
   "id": "3256482d-8660-4de4-bc34-94c8c07c9f4d",
   "metadata": {},
   "source": [
    "What is NE ?\n",
    "- Any word which represents a person, organisaion, location, etc is known as Named Entity (NE).\n",
    "- Subtask of Information Extraction process to identify works which are named entities.\n",
    "- Also known as Entity Identification or Entity Chunking."
   ]
  },
  {
   "cell_type": "markdown",
   "id": "0d8430e5-2896-4a12-832a-2b0fa3af893c",
   "metadata": {},
   "source": [
    "Why NER ?\n",
    "- Extract and analyze information about entites mentioned in article or tweet along with location, dates, numeric information.\n",
    "- Good approach to identify the words which represent the `who`, `what` and `whom` in the text.\n",
    "- Use the extracted information to build algorithm or model in different tasks as of needed.\n",
    "- Can be used to analyze research papers to know what the main focused is on it."
   ]
  },
  {
   "cell_type": "code",
   "execution_count": 40,
   "id": "25716ba2-37a3-42c8-b10f-b7f3eccfa1f3",
   "metadata": {},
   "outputs": [],
   "source": [
    "%load_ext watermark\n",
    "%load_ext lab_black"
   ]
  },
  {
   "cell_type": "code",
   "execution_count": 44,
   "id": "bcdb5d0c-7f7c-4b63-ae3b-392f0a42d21a",
   "metadata": {},
   "outputs": [],
   "source": [
    "import spacy\n",
    "import pandas as pd\n",
    "from spacy import displacy\n",
    "from spacy.lang.en.examples import sentences"
   ]
  },
  {
   "cell_type": "code",
   "execution_count": 43,
   "id": "acf92bf5-2487-46c4-a65a-57cf3e497cef",
   "metadata": {},
   "outputs": [
    {
     "name": "stdout",
     "output_type": "stream",
     "text": [
      "Python implementation: CPython\n",
      "Python version       : 3.8.5\n",
      "IPython version      : 7.23.0\n",
      "\n",
      "pandas: 1.2.4\n",
      "spacy : 3.0.6\n",
      "\n"
     ]
    }
   ],
   "source": [
    "%watermark -iv -v"
   ]
  },
  {
   "cell_type": "code",
   "execution_count": 11,
   "id": "afe4dc18-8693-42f8-938e-d51464b6d0dc",
   "metadata": {},
   "outputs": [],
   "source": [
    "# download spacy models (for named entity all the models gives almost same result)\n",
    "#!python3 -m spacy download en_core_web_sm\n",
    "#!python3 -m spacy download en_core_web_md\n",
    "#!python3 -m spacy download en_core_web_lg"
   ]
  },
  {
   "cell_type": "code",
   "execution_count": null,
   "id": "7b3b9372-19cc-4695-b17f-6025e3a22ec5",
   "metadata": {},
   "outputs": [],
   "source": [
    "# load spacy model\n",
    "nlp = spacy.load(\"en_core_web_sm\")"
   ]
  },
  {
   "cell_type": "markdown",
   "id": "acf7a8d2-ffce-4c23-9d1c-4ce0cc2dabd9",
   "metadata": {},
   "source": [
    "#### Example 1"
   ]
  },
  {
   "cell_type": "code",
   "execution_count": 10,
   "id": "2da650f4-6900-4362-99d8-32370347fbc0",
   "metadata": {},
   "outputs": [
    {
     "name": "stdout",
     "output_type": "stream",
     "text": [
      "Apple is looking at buying U.K. startup for $1 billion\n",
      "Apple PROPN nsubj\n",
      "is AUX aux\n",
      "looking VERB ROOT\n",
      "at ADP prep\n",
      "buying VERB pcomp\n",
      "U.K. PROPN dobj\n",
      "startup NOUN advcl\n",
      "for ADP prep\n",
      "$ SYM quantmod\n",
      "1 NUM compound\n",
      "billion NUM pobj\n"
     ]
    }
   ],
   "source": [
    "# taking sentence from spacy itslef\n",
    "doc = nlp(sentences[0])\n",
    "print(doc.text)\n",
    "for token in doc:\n",
    "    print(token.text, token.pos_, token.dep_)"
   ]
  },
  {
   "cell_type": "markdown",
   "id": "fc6f5439-0601-48d9-991a-8fffdc2ed7af",
   "metadata": {},
   "source": [
    "#### Example 2"
   ]
  },
  {
   "cell_type": "code",
   "execution_count": 20,
   "id": "f713f5a5-7480-4505-b889-a8318a9006fb",
   "metadata": {},
   "outputs": [],
   "source": [
    "# tweet from twitter added with dummy text\n",
    "doc1 = nlp(\"Nokia's Q1 saw strong net sales, operating margin and cash flow. Our CEO Pekka Lundmark discussed the robust set of results which is good for all countries. By 2021 the telecom company will make 2 Billion dollars.\")"
   ]
  },
  {
   "cell_type": "code",
   "execution_count": 31,
   "id": "226364fc-16e2-4ee6-b750-b5cbb1d5895a",
   "metadata": {},
   "outputs": [],
   "source": [
    "#dir(nlp)"
   ]
  },
  {
   "cell_type": "code",
   "execution_count": 28,
   "id": "e067e89b-6c66-41ae-bb11-b748944f26ed",
   "metadata": {},
   "outputs": [
    {
     "data": {
      "text/plain": [
       "[['Nokia', 'ORG'],\n",
       " ['Pekka Lundmark', 'PERSON'],\n",
       " ['2021', 'DATE'],\n",
       " ['2 Billion dollars', 'MONEY']]"
      ]
     },
     "execution_count": 28,
     "metadata": {},
     "output_type": "execute_result"
    }
   ],
   "source": [
    "[[word.text, word.label_] for word in doc1.ents]"
   ]
  },
  {
   "cell_type": "code",
   "execution_count": 23,
   "id": "1d273e93-b6d3-4901-956a-4279776ba269",
   "metadata": {},
   "outputs": [
    {
     "data": {
      "text/plain": [
       "'Companies, agencies, institutions, etc.'"
      ]
     },
     "execution_count": 23,
     "metadata": {},
     "output_type": "execute_result"
    }
   ],
   "source": [
    "# check the meaning of label\n",
    "spacy.explain('ORG')"
   ]
  },
  {
   "cell_type": "code",
   "execution_count": 26,
   "id": "24fe24bf-3fe4-4eb1-b780-f83c9986fc79",
   "metadata": {},
   "outputs": [],
   "source": [
    "# lets use displacy\n",
    "displacy.render(doc1, style='ent',jupyter=True)"
   ]
  },
  {
   "cell_type": "markdown",
   "id": "a696fcd7-f68b-4d4b-8f8b-3ae5cd7aad78",
   "metadata": {},
   "source": [
    "#### Example 3"
   ]
  },
  {
   "cell_type": "code",
   "execution_count": 33,
   "id": "33e31d6e-f795-4198-868d-cf79b04a1989",
   "metadata": {},
   "outputs": [],
   "source": [
    "text = \"The news that US telecoms giant AT&T will use Nokia for a major part of its 5G rollout comes as the Finnish vendor tries to give investors hope. AT&T recently announced it expected to drop around $2 billion per year on rolling out kit designed to make use of the mid-band 5G spectrum it won in the recent auction. A big chunk of that now seems destined to end up in Fin nish pockets thanks to this announcement, which will be especially welcome for Nokia, coming as it does on the day it attempts to reassure its investors about the future.\""
   ]
  },
  {
   "cell_type": "code",
   "execution_count": 57,
   "id": "20cf31dc-bbd0-4309-a589-c64dc566f81a",
   "metadata": {},
   "outputs": [
    {
     "data": {
      "text/html": [
       "<span class=\"tex2jax_ignore\"><div class=\"entities\" style=\"line-height: 2.5; direction: ltr\">The news that \n",
       "<mark class=\"entity\" style=\"background: #feca74; padding: 0.45em 0.6em; margin: 0 0.25em; line-height: 1; border-radius: 0.35em;\">\n",
       "    US\n",
       "    <span style=\"font-size: 0.8em; font-weight: bold; line-height: 1; border-radius: 0.35em; vertical-align: middle; margin-left: 0.5rem\">GPE</span>\n",
       "</mark>\n",
       " telecoms giant \n",
       "<mark class=\"entity\" style=\"background: #7aecec; padding: 0.45em 0.6em; margin: 0 0.25em; line-height: 1; border-radius: 0.35em;\">\n",
       "    AT&amp;T\n",
       "    <span style=\"font-size: 0.8em; font-weight: bold; line-height: 1; border-radius: 0.35em; vertical-align: middle; margin-left: 0.5rem\">ORG</span>\n",
       "</mark>\n",
       " will use \n",
       "<mark class=\"entity\" style=\"background: #7aecec; padding: 0.45em 0.6em; margin: 0 0.25em; line-height: 1; border-radius: 0.35em;\">\n",
       "    Nokia\n",
       "    <span style=\"font-size: 0.8em; font-weight: bold; line-height: 1; border-radius: 0.35em; vertical-align: middle; margin-left: 0.5rem\">ORG</span>\n",
       "</mark>\n",
       " for a major part of its \n",
       "<mark class=\"entity\" style=\"background: #e4e7d2; padding: 0.45em 0.6em; margin: 0 0.25em; line-height: 1; border-radius: 0.35em;\">\n",
       "    5\n",
       "    <span style=\"font-size: 0.8em; font-weight: bold; line-height: 1; border-radius: 0.35em; vertical-align: middle; margin-left: 0.5rem\">CARDINAL</span>\n",
       "</mark>\n",
       "G rollout comes as the \n",
       "<mark class=\"entity\" style=\"background: #c887fb; padding: 0.45em 0.6em; margin: 0 0.25em; line-height: 1; border-radius: 0.35em;\">\n",
       "    Finnish\n",
       "    <span style=\"font-size: 0.8em; font-weight: bold; line-height: 1; border-radius: 0.35em; vertical-align: middle; margin-left: 0.5rem\">NORP</span>\n",
       "</mark>\n",
       " vendor tries to give investors hope. \n",
       "<mark class=\"entity\" style=\"background: #7aecec; padding: 0.45em 0.6em; margin: 0 0.25em; line-height: 1; border-radius: 0.35em;\">\n",
       "    AT&amp;T\n",
       "    <span style=\"font-size: 0.8em; font-weight: bold; line-height: 1; border-radius: 0.35em; vertical-align: middle; margin-left: 0.5rem\">ORG</span>\n",
       "</mark>\n",
       " recently announced it expected to drop \n",
       "<mark class=\"entity\" style=\"background: #e4e7d2; padding: 0.45em 0.6em; margin: 0 0.25em; line-height: 1; border-radius: 0.35em;\">\n",
       "    around $2 billion\n",
       "    <span style=\"font-size: 0.8em; font-weight: bold; line-height: 1; border-radius: 0.35em; vertical-align: middle; margin-left: 0.5rem\">MONEY</span>\n",
       "</mark>\n",
       " per year on rolling out kit designed to make use of the mid-band \n",
       "<mark class=\"entity\" style=\"background: #e4e7d2; padding: 0.45em 0.6em; margin: 0 0.25em; line-height: 1; border-radius: 0.35em;\">\n",
       "    5\n",
       "    <span style=\"font-size: 0.8em; font-weight: bold; line-height: 1; border-radius: 0.35em; vertical-align: middle; margin-left: 0.5rem\">CARDINAL</span>\n",
       "</mark>\n",
       "G spectrum it won in the recent auction. A big chunk of that now seems destined to end up in Fin nish pockets thanks to this announcement, which will be especially welcome for \n",
       "<mark class=\"entity\" style=\"background: #7aecec; padding: 0.45em 0.6em; margin: 0 0.25em; line-height: 1; border-radius: 0.35em;\">\n",
       "    Nokia\n",
       "    <span style=\"font-size: 0.8em; font-weight: bold; line-height: 1; border-radius: 0.35em; vertical-align: middle; margin-left: 0.5rem\">ORG</span>\n",
       "</mark>\n",
       ", coming as it does on \n",
       "<mark class=\"entity\" style=\"background: #bfe1d9; padding: 0.45em 0.6em; margin: 0 0.25em; line-height: 1; border-radius: 0.35em;\">\n",
       "    the day\n",
       "    <span style=\"font-size: 0.8em; font-weight: bold; line-height: 1; border-radius: 0.35em; vertical-align: middle; margin-left: 0.5rem\">DATE</span>\n",
       "</mark>\n",
       " it attempts to reassure its investors about the future.</div></span>"
      ],
      "text/plain": [
       "<IPython.core.display.HTML object>"
      ]
     },
     "metadata": {},
     "output_type": "display_data"
    },
    {
     "name": "stdout",
     "output_type": "stream",
     "text": [
      "\n",
      "df:\n"
     ]
    },
    {
     "data": {
      "text/html": [
       "<div>\n",
       "<style scoped>\n",
       "    .dataframe tbody tr th:only-of-type {\n",
       "        vertical-align: middle;\n",
       "    }\n",
       "\n",
       "    .dataframe tbody tr th {\n",
       "        vertical-align: top;\n",
       "    }\n",
       "\n",
       "    .dataframe thead th {\n",
       "        text-align: right;\n",
       "    }\n",
       "</style>\n",
       "<table border=\"1\" class=\"dataframe\">\n",
       "  <thead>\n",
       "    <tr style=\"text-align: right;\">\n",
       "      <th></th>\n",
       "      <th>Entities</th>\n",
       "      <th>Labels</th>\n",
       "      <th>Position_start</th>\n",
       "      <th>Position_end</th>\n",
       "    </tr>\n",
       "  </thead>\n",
       "  <tbody>\n",
       "    <tr>\n",
       "      <th>0</th>\n",
       "      <td>(US)</td>\n",
       "      <td>GPE</td>\n",
       "      <td>14</td>\n",
       "      <td>16</td>\n",
       "    </tr>\n",
       "    <tr>\n",
       "      <th>1</th>\n",
       "      <td>(AT&amp;T)</td>\n",
       "      <td>ORG</td>\n",
       "      <td>32</td>\n",
       "      <td>36</td>\n",
       "    </tr>\n",
       "    <tr>\n",
       "      <th>2</th>\n",
       "      <td>(Nokia)</td>\n",
       "      <td>ORG</td>\n",
       "      <td>46</td>\n",
       "      <td>51</td>\n",
       "    </tr>\n",
       "    <tr>\n",
       "      <th>3</th>\n",
       "      <td>(5)</td>\n",
       "      <td>CARDINAL</td>\n",
       "      <td>76</td>\n",
       "      <td>77</td>\n",
       "    </tr>\n",
       "    <tr>\n",
       "      <th>4</th>\n",
       "      <td>(Finnish)</td>\n",
       "      <td>NORP</td>\n",
       "      <td>100</td>\n",
       "      <td>107</td>\n",
       "    </tr>\n",
       "    <tr>\n",
       "      <th>5</th>\n",
       "      <td>(AT&amp;T)</td>\n",
       "      <td>ORG</td>\n",
       "      <td>145</td>\n",
       "      <td>149</td>\n",
       "    </tr>\n",
       "    <tr>\n",
       "      <th>6</th>\n",
       "      <td>(around, $, 2, billion)</td>\n",
       "      <td>MONEY</td>\n",
       "      <td>189</td>\n",
       "      <td>206</td>\n",
       "    </tr>\n",
       "    <tr>\n",
       "      <th>7</th>\n",
       "      <td>(5)</td>\n",
       "      <td>CARDINAL</td>\n",
       "      <td>272</td>\n",
       "      <td>273</td>\n",
       "    </tr>\n",
       "    <tr>\n",
       "      <th>8</th>\n",
       "      <td>(Nokia)</td>\n",
       "      <td>ORG</td>\n",
       "      <td>449</td>\n",
       "      <td>454</td>\n",
       "    </tr>\n",
       "    <tr>\n",
       "      <th>9</th>\n",
       "      <td>(the, day)</td>\n",
       "      <td>DATE</td>\n",
       "      <td>477</td>\n",
       "      <td>484</td>\n",
       "    </tr>\n",
       "  </tbody>\n",
       "</table>\n",
       "</div>"
      ],
      "text/plain": [
       "                  Entities    Labels  Position_start  Position_end\n",
       "0                     (US)       GPE              14            16\n",
       "1                   (AT&T)       ORG              32            36\n",
       "2                  (Nokia)       ORG              46            51\n",
       "3                      (5)  CARDINAL              76            77\n",
       "4                (Finnish)      NORP             100           107\n",
       "5                   (AT&T)       ORG             145           149\n",
       "6  (around, $, 2, billion)     MONEY             189           206\n",
       "7                      (5)  CARDINAL             272           273\n",
       "8                  (Nokia)       ORG             449           454\n",
       "9               (the, day)      DATE             477           484"
      ]
     },
     "metadata": {},
     "output_type": "display_data"
    }
   ],
   "source": [
    "doc = nlp(text)\n",
    "\n",
    "entities = []\n",
    "labels = []\n",
    "position_start = []\n",
    "position_end = []\n",
    "\n",
    "for ent in doc.ents:\n",
    "    entities.append(ent)\n",
    "    labels.append(ent.label_)\n",
    "    position_start.append(ent.start_char)\n",
    "    position_end.append(ent.end_char)\n",
    "\n",
    "# displaying in dataframe\n",
    "df = pd.DataFrame(\n",
    "    {\n",
    "        \"Entities\": entities,\n",
    "        \"Labels\": labels,\n",
    "        \"Position_start\": position_start,\n",
    "        \"Position_end\": position_end,\n",
    "    }\n",
    ")\n",
    "displacy.render(doc, style=\"ent\", jupyter=True)\n",
    "\n",
    "\n",
    "print(\"\\ndf:\")\n",
    "display(df)"
   ]
  },
  {
   "cell_type": "code",
   "execution_count": 61,
   "id": "329e68eb-9a9d-4078-9ac7-0154c26e3e3d",
   "metadata": {},
   "outputs": [
    {
     "data": {
      "text/plain": [
       "['_',\n",
       " '__class__',\n",
       " '__delattr__',\n",
       " '__dir__',\n",
       " '__doc__',\n",
       " '__eq__',\n",
       " '__format__',\n",
       " '__ge__',\n",
       " '__getattribute__',\n",
       " '__getitem__',\n",
       " '__gt__',\n",
       " '__hash__',\n",
       " '__init__',\n",
       " '__init_subclass__',\n",
       " '__iter__',\n",
       " '__le__',\n",
       " '__len__',\n",
       " '__lt__',\n",
       " '__ne__',\n",
       " '__new__',\n",
       " '__pyx_vtable__',\n",
       " '__reduce__',\n",
       " '__reduce_ex__',\n",
       " '__repr__',\n",
       " '__setattr__',\n",
       " '__sizeof__',\n",
       " '__str__',\n",
       " '__subclasshook__',\n",
       " '_fix_dep_copy',\n",
       " '_vector',\n",
       " '_vector_norm',\n",
       " 'as_doc',\n",
       " 'char_span',\n",
       " 'conjuncts',\n",
       " 'doc',\n",
       " 'end',\n",
       " 'end_char',\n",
       " 'ent_id',\n",
       " 'ent_id_',\n",
       " 'ents',\n",
       " 'get_extension',\n",
       " 'get_lca_matrix',\n",
       " 'has_extension',\n",
       " 'has_vector',\n",
       " 'kb_id',\n",
       " 'kb_id_',\n",
       " 'label',\n",
       " 'label_',\n",
       " 'lefts',\n",
       " 'lemma_',\n",
       " 'n_lefts',\n",
       " 'n_rights',\n",
       " 'noun_chunks',\n",
       " 'orth_',\n",
       " 'remove_extension',\n",
       " 'rights',\n",
       " 'root',\n",
       " 'sent',\n",
       " 'sentiment',\n",
       " 'set_extension',\n",
       " 'similarity',\n",
       " 'start',\n",
       " 'start_char',\n",
       " 'subtree',\n",
       " 'tensor',\n",
       " 'text',\n",
       " 'text_with_ws',\n",
       " 'to_array',\n",
       " 'vector',\n",
       " 'vector_norm',\n",
       " 'vocab']"
      ]
     },
     "execution_count": 61,
     "metadata": {},
     "output_type": "execute_result"
    }
   ],
   "source": [
    "# list all the valid attributes of the object\n",
    "dir(ent)"
   ]
  },
  {
   "cell_type": "code",
   "execution_count": null,
   "id": "7039fe3c-b9c0-4724-9883-3e1ced94d985",
   "metadata": {},
   "outputs": [],
   "source": []
  }
 ],
 "metadata": {
  "kernelspec": {
   "display_name": "Python 3",
   "language": "python",
   "name": "python3"
  },
  "language_info": {
   "codemirror_mode": {
    "name": "ipython",
    "version": 3
   },
   "file_extension": ".py",
   "mimetype": "text/x-python",
   "name": "python",
   "nbconvert_exporter": "python",
   "pygments_lexer": "ipython3",
   "version": "3.8.5"
  }
 },
 "nbformat": 4,
 "nbformat_minor": 5
}
