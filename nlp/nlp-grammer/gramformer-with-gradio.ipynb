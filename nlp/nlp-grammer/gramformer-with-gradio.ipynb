{
 "cells": [
  {
   "cell_type": "markdown",
   "id": "457ead30-a216-41f7-8a0b-675425849439",
   "metadata": {},
   "source": [
    "## Gramformer for grammer correction"
   ]
  },
  {
   "cell_type": "markdown",
   "id": "7bf10dbb-8135-43d0-87bb-851a7952b89a",
   "metadata": {},
   "source": [
    "In this tutorial I will be doing this steps: \n",
    "1. Install Gramformer, Gradio and pytorch\n",
    "2. Use the Gramformer model for grammar correction \n",
    "3. Deploy it as an application using Gradio\n",
    "\n",
    "[Gramformer github link](https://github.com/PrithivirajDamodaran/Gramformer)\n",
    "\n",
    "[Gradio github link](https://github.com/gradio-app/gradio)"
   ]
  },
  {
   "cell_type": "markdown",
   "id": "54d90021-9ffa-47c9-b745-0414e78e3db8",
   "metadata": {},
   "source": [
    "### Install and Import Dependencies"
   ]
  },
  {
   "cell_type": "code",
   "execution_count": 1,
   "id": "80af3c57-a43f-4fa4-a517-62019338ab81",
   "metadata": {},
   "outputs": [],
   "source": [
    "#!pip install git+https://github.com/PrithivirajDamodaran/Gramformer.git\n",
    "#!pip install gradio\n",
    "#!pip3 install torch==1.9.0+cpu torchvision==0.10.0+cpu torchaudio==0.9.0 -f https://download.pytorch.org/whl/torch_stable.html"
   ]
  },
  {
   "cell_type": "code",
   "execution_count": 2,
   "id": "d32322d5-bf93-49f9-a6d0-5da985b3a16a",
   "metadata": {},
   "outputs": [],
   "source": [
    "%load_ext watermark\n",
    "%load_ext lab_black"
   ]
  },
  {
   "cell_type": "code",
   "execution_count": 3,
   "id": "23e55984-83de-44f7-a544-870fa3b72130",
   "metadata": {},
   "outputs": [
    {
     "name": "stdout",
     "output_type": "stream",
     "text": [
      "Author: Sudarshan Koirala\n",
      "\n",
      "torch : 1.9.0+cpu\n",
      "gradio: 2.0.9\n",
      "\n"
     ]
    }
   ],
   "source": [
    "from gramformer import Gramformer\n",
    "import gradio as gr\n",
    "import torch\n",
    "\n",
    "%watermark -a \"Sudarshan Koirala\" -iv"
   ]
  },
  {
   "cell_type": "code",
   "execution_count": 4,
   "id": "5000496a-21c0-437c-bf6a-12890510d19d",
   "metadata": {},
   "outputs": [],
   "source": [
    "def set_seed(seed):\n",
    "    \"\"\"Setting seed for reproducebility\"\"\"\n",
    "    torch.manual_seed(seed)\n",
    "    if torch.cuda.is_available():\n",
    "        torch.cuda.manual_seed_all(seed)"
   ]
  },
  {
   "cell_type": "code",
   "execution_count": 5,
   "id": "173b5516-71ca-4e42-bfd2-0342f0368abc",
   "metadata": {},
   "outputs": [],
   "source": [
    "set_seed(22)"
   ]
  },
  {
   "cell_type": "markdown",
   "id": "f7f34f8c-067a-41e8-afe1-c6cafd367678",
   "metadata": {},
   "source": [
    "### Instantiate Gramformer and run correction"
   ]
  },
  {
   "cell_type": "code",
   "execution_count": 6,
   "id": "f0a92b3c-9794-4611-85b5-ec6b46fd3ff7",
   "metadata": {},
   "outputs": [],
   "source": [
    "# Gramformer??"
   ]
  },
  {
   "cell_type": "markdown",
   "id": "8078789f-2505-429d-b35d-74dfb508d6cb",
   "metadata": {},
   "source": [
    "To solve the issue `ImportError: IProgress not found. Please update jupyter and ipywidgets. See https://ipywidgets.readthedocs.io/en/stable/user_install.html\n",
    "` run the following commands.\n",
    "\n",
    "More info here -> https://128mots.com/index.php/en/2021/01/27/importerror-iprogress-not-found-please-update-jupyter-and-ipywidgets/"
   ]
  },
  {
   "cell_type": "code",
   "execution_count": 7,
   "id": "2d5b878d-6efa-4a93-9fa2-80889f0ea8c9",
   "metadata": {},
   "outputs": [],
   "source": [
    "#!pip3 install ipywidgets\n",
    "#!jupyter nbextension enable --py widgetsnbextension"
   ]
  },
  {
   "cell_type": "code",
   "execution_count": 8,
   "id": "e3a52828-df23-4705-9278-89fb439d204a",
   "metadata": {},
   "outputs": [
    {
     "name": "stdout",
     "output_type": "stream",
     "text": [
      "[Gramformer] All models loaded..\n"
     ]
    }
   ],
   "source": [
    "gf = Gramformer(\n",
    "    models=3, use_gpu=False\n",
    ")  # 0 = detector, 1 = highlighter, 2 = corrector, 3 = all"
   ]
  },
  {
   "cell_type": "code",
   "execution_count": 9,
   "id": "b8dcba26-040f-4429-bc25-cc838dd672da",
   "metadata": {},
   "outputs": [
    {
     "data": {
      "text/plain": [
       "['My laptop is not working properly.']"
      ]
     },
     "execution_count": 9,
     "metadata": {},
     "output_type": "execute_result"
    }
   ],
   "source": [
    "# single sentence\n",
    "gf.correct(\"My laptop is no work properly\")"
   ]
  },
  {
   "cell_type": "code",
   "execution_count": 10,
   "id": "2e9084d3-d157-48b0-81a7-c31e1b6abc98",
   "metadata": {},
   "outputs": [],
   "source": [
    "# lets pass more sentences to see how gramformer works\n",
    "incorrect_sentences = [\n",
    "    \"Matt like fish\",\n",
    "    \"the collection of letters was original used by the ancient Romans\",\n",
    "    \"We enjoys horror movies\",\n",
    "    \"Anna and Mike is going skiing\",\n",
    "    \"I walk to the store and I bought milk\",\n",
    "    \"We all eat the fish and then made dessert\",\n",
    "    \"I will eat fish for dinner and drank milk\",\n",
    "    \"what be the reason for everyone leave the company\",\n",
    "]"
   ]
  },
  {
   "cell_type": "code",
   "execution_count": 11,
   "id": "203807f7-80f2-4aeb-97c1-74c3862bd3fa",
   "metadata": {},
   "outputs": [
    {
     "name": "stdout",
     "output_type": "stream",
     "text": [
      "[Incorrect sentence]:  Matt like fish\n",
      "[Corrected sentence]:  Matt likes fish\n",
      "----------------------------------------------------------------------------------------------------\n",
      "[Incorrect sentence]:  the collection of letters was original used by the ancient Romans\n",
      "[Corrected sentence]:  This collection of letters was originally used by the ancient Romans\n",
      "----------------------------------------------------------------------------------------------------\n",
      "[Incorrect sentence]:  We enjoys horror movies\n",
      "[Corrected sentence]:  We enjoy horror movies.\n",
      "----------------------------------------------------------------------------------------------------\n",
      "[Incorrect sentence]:  Anna and Mike is going skiing\n",
      "[Corrected sentence]:  Anna and Mike are going skiing\n",
      "----------------------------------------------------------------------------------------------------\n",
      "[Incorrect sentence]:  I walk to the store and I bought milk\n",
      "[Corrected sentence]:  I walked to the store and I bought milk.\n",
      "----------------------------------------------------------------------------------------------------\n",
      "[Incorrect sentence]:  We all eat the fish and then made dessert\n",
      "[Corrected sentence]:  We all ate the fish and then made dessert\n",
      "----------------------------------------------------------------------------------------------------\n",
      "[Incorrect sentence]:  I will eat fish for dinner and drank milk\n",
      "[Corrected sentence]:  I will eat fish for dinner and drink milk\n",
      "----------------------------------------------------------------------------------------------------\n",
      "[Incorrect sentence]:  what be the reason for everyone leave the company\n",
      "[Corrected sentence]:  What be the reasons for everyone leaving the company\n",
      "----------------------------------------------------------------------------------------------------\n"
     ]
    }
   ],
   "source": [
    "for incorrect_sentence in incorrect_sentences:\n",
    "    corrected_sentence = gf.correct(incorrect_sentence)\n",
    "    print(\"[Incorrect sentence]: \", incorrect_sentence)\n",
    "    print(\"[Corrected sentence]: \", corrected_sentence[0])\n",
    "    print(\"-\" * 100)"
   ]
  },
  {
   "cell_type": "markdown",
   "id": "8b4d2f33-e252-4549-87d5-a4caf6de4426",
   "metadata": {},
   "source": [
    "### Deploying with Gradio"
   ]
  },
  {
   "cell_type": "code",
   "execution_count": 14,
   "id": "bb8cefcc-4f3c-4178-81de-be9ab0924ec3",
   "metadata": {},
   "outputs": [],
   "source": [
    "def correct(sentence):\n",
    "    res = gf.correct(sentence)  # Gramformer correct\n",
    "    return res[0]  # Return first value in res array"
   ]
  },
  {
   "cell_type": "code",
   "execution_count": 15,
   "id": "70eddb3d-a804-41e0-ad24-89e726275b3d",
   "metadata": {},
   "outputs": [],
   "source": [
    "app_inputs = gr.inputs.Textbox(\n",
    "    lines=2, placeholder=\"Enter incorrect sentence here ....\"\n",
    ")"
   ]
  },
  {
   "cell_type": "code",
   "execution_count": 24,
   "id": "edaf2202-b11b-4872-aaa2-82df35d003d3",
   "metadata": {},
   "outputs": [],
   "source": [
    "# gr.Interface??"
   ]
  },
  {
   "cell_type": "code",
   "execution_count": 21,
   "id": "7cde529e-5ec3-45dd-9981-f15b87f61731",
   "metadata": {},
   "outputs": [],
   "source": [
    "interface = gr.Interface(\n",
    "    fn=correct,\n",
    "    inputs=app_inputs,\n",
    "    allow_flagging=False,\n",
    "    outputs=\"text\",\n",
    "    title=\"Hi, I'm Gramformer\",\n",
    ")"
   ]
  },
  {
   "cell_type": "code",
   "execution_count": 22,
   "id": "8a5ec363-3ce5-4e70-95e8-8fd739b3294b",
   "metadata": {},
   "outputs": [
    {
     "name": "stdout",
     "output_type": "stream",
     "text": [
      "Running locally at: http://127.0.0.1:7862/\n",
      "To create a public link, set `share=True` in `launch()`.\n",
      "Interface loading below...\n"
     ]
    },
    {
     "data": {
      "text/html": [
       "\n",
       "        <iframe\n",
       "            width=\"900\"\n",
       "            height=\"500\"\n",
       "            src=\"http://127.0.0.1:7862/\"\n",
       "            frameborder=\"0\"\n",
       "            allowfullscreen\n",
       "        ></iframe>\n",
       "        "
      ],
      "text/plain": [
       "<IPython.lib.display.IFrame at 0x7fdb582cc9a0>"
      ]
     },
     "metadata": {},
     "output_type": "display_data"
    },
    {
     "data": {
      "text/plain": [
       "(<Flask 'gradio.networking'>, 'http://127.0.0.1:7862/', None)"
      ]
     },
     "execution_count": 22,
     "metadata": {},
     "output_type": "execute_result"
    }
   ],
   "source": [
    "interface.launch()"
   ]
  },
  {
   "cell_type": "code",
   "execution_count": 19,
   "id": "1de43f5c-6c61-48a7-9016-c6040c1cd97e",
   "metadata": {},
   "outputs": [],
   "source": [
    "# the link displayed after running this cell can be shared with others and will be valid for 24 hours.\n",
    "# interface.launch(share=True)"
   ]
  },
  {
   "cell_type": "code",
   "execution_count": null,
   "id": "fe7684c1-428d-43fc-95fc-e498840316b1",
   "metadata": {},
   "outputs": [],
   "source": []
  }
 ],
 "metadata": {
  "kernelspec": {
   "display_name": "Python 3",
   "language": "python",
   "name": "python3"
  },
  "language_info": {
   "codemirror_mode": {
    "name": "ipython",
    "version": 3
   },
   "file_extension": ".py",
   "mimetype": "text/x-python",
   "name": "python",
   "nbconvert_exporter": "python",
   "pygments_lexer": "ipython3",
   "version": "3.8.5"
  }
 },
 "nbformat": 4,
 "nbformat_minor": 5
}
